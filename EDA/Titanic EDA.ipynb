{
 "cells": [
  {
   "cell_type": "code",
   "execution_count": 12,
   "id": "50d3cbe4-d477-4fec-8953-aec0cc351678",
   "metadata": {},
   "outputs": [],
   "source": [
    "# importing pyspark libs\n",
    "from pyspark.sql import SparkSession\n",
    "from pyspark.sql.functions import *\n",
    "import pandas as pd"
   ]
  },
  {
   "cell_type": "code",
   "execution_count": 13,
   "id": "a510a365-9f90-4383-9265-19ae04901e7f",
   "metadata": {},
   "outputs": [
    {
     "name": "stdout",
     "output_type": "stream",
     "text": [
      "Spark session created successfully\n"
     ]
    }
   ],
   "source": [
    "# Spark session\n",
    "try:\n",
    "    spark = SparkSession.builder.master(\"local\").appName(\"PysparkLearning\").getOrCreate()\n",
    "    if spark is not None:\n",
    "        print(\"Spark session created successfully\")\n",
    "    else:\n",
    "        print(\"Please check your spark session variable\")\n",
    "except Exception as e:\n",
    "    print(\"Exception occured during spark session creation with error :\"+str(e))"
   ]
  },
  {
   "cell_type": "code",
   "execution_count": 14,
   "id": "223771a1-84a2-43af-b8ae-22a00871e275",
   "metadata": {},
   "outputs": [],
   "source": [
    "# this dataset is downloaded from Kaggle\n",
    "csvFileName = \"D:/Pyspark_latest/Testing with multiple file formats/csv/Titanic-Dataset.csv\"\n",
    "\n",
    "#make sure you give the header = True else spark will create default columns\n",
    "try:\n",
    "    titanic_data = spark.read.csv(csvFileName,inferSchema = True ,header=True, sep=\",\")\n",
    "except Exception as e:\n",
    "    print(\"Error in reading the file\")"
   ]
  },
  {
   "cell_type": "markdown",
   "id": "faabc731-6ec2-44a5-a814-6f6e04603417",
   "metadata": {},
   "source": [
    "### Purpose : To analyse which segment of people have survived the most"
   ]
  },
  {
   "cell_type": "markdown",
   "id": "1a45ba5f-3037-4e5a-853a-634739adbdf8",
   "metadata": {},
   "source": [
    "#### Knowledge Bytes : 1\n",
    "- There is no shape function in spark\n",
    "- If you want to have summary of df like pandas.describe to give mean, median and percentiles u can use summary function\n",
    "- Remember summary is a transformation unless we use an action like show or collect it will not print the results\n",
    "- If you use show it will always return None type used for only debugging purose\n",
    "- collect : Collects the result set and stores into a row object --> returns a py list\n",
    "- Remember collect can crash the program if the data is too huge"
   ]
  },
  {
   "cell_type": "code",
   "execution_count": 15,
   "id": "15778b46-06c7-46ac-9f3d-4022784c4ab3",
   "metadata": {},
   "outputs": [
    {
     "name": "stdout",
     "output_type": "stream",
     "text": [
      "Columns in data set are\n",
      "['PassengerId', 'Survived', 'Pclass', 'Name', 'Sex', 'Age', 'SibSp', 'Parch', 'Ticket', 'Fare', 'Cabin', 'Embarked']\n",
      "Column Nature (Dtypes and nullable nature)\n",
      "root\n",
      " |-- PassengerId: integer (nullable = true)\n",
      " |-- Survived: integer (nullable = true)\n",
      " |-- Pclass: integer (nullable = true)\n",
      " |-- Name: string (nullable = true)\n",
      " |-- Sex: string (nullable = true)\n",
      " |-- Age: double (nullable = true)\n",
      " |-- SibSp: integer (nullable = true)\n",
      " |-- Parch: integer (nullable = true)\n",
      " |-- Ticket: string (nullable = true)\n",
      " |-- Fare: double (nullable = true)\n",
      " |-- Cabin: string (nullable = true)\n",
      " |-- Embarked: string (nullable = true)\n",
      "\n",
      "None\n",
      "Size of dataset\n",
      "891\n",
      "Number of columns 12\n",
      "Sample of 10 records (rows)\n",
      "+-----------+--------+------+--------------------+------+----+-----+-----+----------------+-------+-----+--------+\n",
      "|PassengerId|Survived|Pclass|                Name|   Sex| Age|SibSp|Parch|          Ticket|   Fare|Cabin|Embarked|\n",
      "+-----------+--------+------+--------------------+------+----+-----+-----+----------------+-------+-----+--------+\n",
      "|          1|       0|     3|Braund, Mr. Owen ...|  male|22.0|    1|    0|       A/5 21171|   7.25| NULL|       S|\n",
      "|          2|       1|     1|Cumings, Mrs. Joh...|female|38.0|    1|    0|        PC 17599|71.2833|  C85|       C|\n",
      "|          3|       1|     3|Heikkinen, Miss. ...|female|26.0|    0|    0|STON/O2. 3101282|  7.925| NULL|       S|\n",
      "|          4|       1|     1|Futrelle, Mrs. Ja...|female|35.0|    1|    0|          113803|   53.1| C123|       S|\n",
      "|          5|       0|     3|Allen, Mr. Willia...|  male|35.0|    0|    0|          373450|   8.05| NULL|       S|\n",
      "|          6|       0|     3|    Moran, Mr. James|  male|NULL|    0|    0|          330877| 8.4583| NULL|       Q|\n",
      "|          7|       0|     1|McCarthy, Mr. Tim...|  male|54.0|    0|    0|           17463|51.8625|  E46|       S|\n",
      "|          8|       0|     3|Palsson, Master. ...|  male| 2.0|    3|    1|          349909| 21.075| NULL|       S|\n",
      "|          9|       1|     3|Johnson, Mrs. Osc...|female|27.0|    0|    2|          347742|11.1333| NULL|       S|\n",
      "|         10|       1|     2|Nasser, Mrs. Nich...|female|14.0|    1|    0|          237736|30.0708| NULL|       C|\n",
      "+-----------+--------+------+--------------------+------+----+-----+-----+----------------+-------+-----+--------+\n",
      "only showing top 10 rows\n",
      "\n",
      "None\n",
      "Summary of df\n",
      "{'summary': 'count', 'PassengerId': '891', 'Survived': '891', 'Pclass': '891', 'Name': '891', 'Sex': '891', 'Age': '714', 'SibSp': '891', 'Parch': '891', 'Ticket': '891', 'Fare': '891', 'Cabin': '204', 'Embarked': '889'}\n",
      "{'summary': 'mean', 'PassengerId': '446.0', 'Survived': '0.3838383838383838', 'Pclass': '2.308641975308642', 'Name': None, 'Sex': None, 'Age': '29.69911764705882', 'SibSp': '0.5230078563411896', 'Parch': '0.38159371492704824', 'Ticket': '260318.54916792738', 'Fare': '32.2042079685746', 'Cabin': None, 'Embarked': None}\n",
      "{'summary': 'stddev', 'PassengerId': '257.3538420152301', 'Survived': '0.48659245426485753', 'Pclass': '0.8360712409770491', 'Name': None, 'Sex': None, 'Age': '14.526497332334035', 'SibSp': '1.1027434322934315', 'Parch': '0.8060572211299488', 'Ticket': '471609.26868834975', 'Fare': '49.69342859718089', 'Cabin': None, 'Embarked': None}\n",
      "{'summary': 'min', 'PassengerId': '1', 'Survived': '0', 'Pclass': '1', 'Name': '\"Andersson, Mr. August Edvard (\"\"Wennerstrom\"\")\"', 'Sex': 'female', 'Age': '0.42', 'SibSp': '0', 'Parch': '0', 'Ticket': '110152', 'Fare': '0.0', 'Cabin': 'A10', 'Embarked': 'C'}\n",
      "{'summary': '25%', 'PassengerId': '223', 'Survived': '0', 'Pclass': '2', 'Name': None, 'Sex': None, 'Age': '20.0', 'SibSp': '0', 'Parch': '0', 'Ticket': '19996.0', 'Fare': '7.8958', 'Cabin': None, 'Embarked': None}\n",
      "{'summary': '50%', 'PassengerId': '446', 'Survived': '0', 'Pclass': '3', 'Name': None, 'Sex': None, 'Age': '28.0', 'SibSp': '0', 'Parch': '0', 'Ticket': '236171.0', 'Fare': '14.4542', 'Cabin': None, 'Embarked': None}\n",
      "{'summary': '75%', 'PassengerId': '669', 'Survived': '1', 'Pclass': '3', 'Name': None, 'Sex': None, 'Age': '38.0', 'SibSp': '1', 'Parch': '0', 'Ticket': '347743.0', 'Fare': '31.0', 'Cabin': None, 'Embarked': None}\n",
      "{'summary': 'max', 'PassengerId': '891', 'Survived': '1', 'Pclass': '3', 'Name': 'van Melkebeke, Mr. Philemon', 'Sex': 'male', 'Age': '80.0', 'SibSp': '8', 'Parch': '6', 'Ticket': 'WE/P 5735', 'Fare': '512.3292', 'Cabin': 'T', 'Embarked': 'S'}\n",
      "Other way 1\n",
      "  summary        PassengerId             Survived              Pclass  \\\n",
      "0   count                891                  891                 891   \n",
      "1    mean              446.0   0.3838383838383838   2.308641975308642   \n",
      "2  stddev  257.3538420152301  0.48659245426485753  0.8360712409770491   \n",
      "3     min                  1                    0                   1   \n",
      "4     25%                223                    0                   2   \n",
      "5     50%                446                    0                   3   \n",
      "6     75%                669                    1                   3   \n",
      "7     max                891                    1                   3   \n",
      "\n",
      "                                               Name     Sex  \\\n",
      "0                                               891     891   \n",
      "1                                              None    None   \n",
      "2                                              None    None   \n",
      "3  \"Andersson, Mr. August Edvard (\"\"Wennerstrom\"\")\"  female   \n",
      "4                                              None    None   \n",
      "5                                              None    None   \n",
      "6                                              None    None   \n",
      "7                       van Melkebeke, Mr. Philemon    male   \n",
      "\n",
      "                  Age               SibSp                Parch  \\\n",
      "0                 714                 891                  891   \n",
      "1   29.69911764705882  0.5230078563411896  0.38159371492704824   \n",
      "2  14.526497332334035  1.1027434322934315   0.8060572211299488   \n",
      "3                0.42                   0                    0   \n",
      "4                20.0                   0                    0   \n",
      "5                28.0                   0                    0   \n",
      "6                38.0                   1                    0   \n",
      "7                80.0                   8                    6   \n",
      "\n",
      "               Ticket               Fare Cabin Embarked  \n",
      "0                 891                891   204      889  \n",
      "1  260318.54916792738   32.2042079685746  None     None  \n",
      "2  471609.26868834975  49.69342859718089  None     None  \n",
      "3              110152                0.0   A10        C  \n",
      "4             19996.0             7.8958  None     None  \n",
      "5            236171.0            14.4542  None     None  \n",
      "6            347743.0               31.0  None     None  \n",
      "7           WE/P 5735           512.3292     T        S  \n",
      "Other way 2\n",
      "+-------+-----------------+-------------------+------------------+------------------------------------------------+------+------------------+------------------+-------------------+------------------+-----------------+-----+--------+\n",
      "|summary|PassengerId      |Survived           |Pclass            |Name                                            |Sex   |Age               |SibSp             |Parch              |Ticket            |Fare             |Cabin|Embarked|\n",
      "+-------+-----------------+-------------------+------------------+------------------------------------------------+------+------------------+------------------+-------------------+------------------+-----------------+-----+--------+\n",
      "|count  |891              |891                |891               |891                                             |891   |714               |891               |891                |891               |891              |204  |889     |\n",
      "|mean   |446.0            |0.3838383838383838 |2.308641975308642 |NULL                                            |NULL  |29.69911764705882 |0.5230078563411896|0.38159371492704824|260318.54916792738|32.2042079685746 |NULL |NULL    |\n",
      "|stddev |257.3538420152301|0.48659245426485753|0.8360712409770491|NULL                                            |NULL  |14.526497332334035|1.1027434322934315|0.8060572211299488 |471609.26868834975|49.69342859718089|NULL |NULL    |\n",
      "|min    |1                |0                  |1                 |\"Andersson, Mr. August Edvard (\"\"Wennerstrom\"\")\"|female|0.42              |0                 |0                  |110152            |0.0              |A10  |C       |\n",
      "|25%    |223              |0                  |2                 |NULL                                            |NULL  |20.0              |0                 |0                  |19996.0           |7.8958           |NULL |NULL    |\n",
      "|50%    |446              |0                  |3                 |NULL                                            |NULL  |28.0              |0                 |0                  |236171.0          |14.4542          |NULL |NULL    |\n",
      "|75%    |669              |1                  |3                 |NULL                                            |NULL  |38.0              |1                 |0                  |347743.0          |31.0             |NULL |NULL    |\n",
      "|max    |891              |1                  |3                 |van Melkebeke, Mr. Philemon                     |male  |80.0              |8                 |6                  |WE/P 5735         |512.3292         |T    |S       |\n",
      "+-------+-----------------+-------------------+------------------+------------------------------------------------+------+------------------+------------------+-------------------+------------------+-----------------+-----+--------+\n",
      "\n",
      "None\n"
     ]
    }
   ],
   "source": [
    "print(\"Columns in data set are\")\n",
    "print(titanic_data.columns)  # printing the colums\n",
    "\n",
    "print(\"Column Nature (Dtypes and nullable nature)\")\n",
    "print(titanic_data.printSchema()) # prints the column data type and nullable nature\n",
    "\n",
    "print(\"Size of dataset\")\n",
    "print(titanic_data.count()) #shape function is not present in spark\n",
    "\n",
    "print(\"Number of columns \" +str(len(titanic_data.columns)))\n",
    "\n",
    "print(\"Sample of 10 records (rows)\")\n",
    "print(titanic_data.show(10))  # 10 records display\n",
    "\n",
    "# some stats around the df\n",
    "print(\"Summary of df\")\n",
    "stats = titanic_data.summary().collect()\n",
    "for row in stats:\n",
    "    print(row.asDict())\n",
    "\n",
    "# Other ways of producing the same result\n",
    "print(\"Other way 1\")\n",
    "print(titanic_data.summary().toPandas())\n",
    "\n",
    "# we can also use truncate which tells spark not to cut off long values\n",
    "\n",
    "print(\"Other way 2\")\n",
    "print(titanic_data.summary().show(truncate=False))"
   ]
  },
  {
   "cell_type": "markdown",
   "id": "c0fd9e3a-585d-4155-8fee-1a09e084ffb7",
   "metadata": {},
   "source": [
    "#### Calculating the percentage of nulls in each column\n"
   ]
  },
  {
   "cell_type": "code",
   "execution_count": 16,
   "id": "da40deaa-a977-41fe-8501-5e8990bd77e0",
   "metadata": {},
   "outputs": [
    {
     "name": "stdout",
     "output_type": "stream",
     "text": [
      "+------------------+-----------------+-------------------+----+----+-----+-----------+------+---+-----+--------+------+\n",
      "|               Age|            Cabin|           Embarked|Fare|Name|Parch|PassengerId|Pclass|Sex|SibSp|Survived|Ticket|\n",
      "+------------------+-----------------+-------------------+----+----+-----+-----------+------+---+-----+--------+------+\n",
      "|19.865319865319865|77.10437710437711|0.22446689113355783| 0.0| 0.0|  0.0|        0.0|   0.0|0.0|  0.0|     0.0|   0.0|\n",
      "+------------------+-----------------+-------------------+----+----+-----+-----------+------+---+-----+--------+------+\n",
      "\n",
      "None\n"
     ]
    }
   ],
   "source": [
    "#method 1 using filter\n",
    "\n",
    "col_list = titanic_data.columns\n",
    "null_percent_dict = {}\n",
    "for column in col_list:\n",
    "    null_percent_dict[column] = (titanic_data.filter(col(column).isNull()).count()/titanic_data.count())*100.00\n",
    "    \n",
    "null_percent_df = spark.createDataFrame([null_percent_dict])\n",
    "print(null_percent_df.show())\n"
   ]
  },
  {
   "cell_type": "code",
   "execution_count": 17,
   "id": "7fc88d97-be41-45eb-8fc1-acfddfdfaa38",
   "metadata": {},
   "outputs": [
    {
     "name": "stdout",
     "output_type": "stream",
     "text": [
      "PassengerId\n",
      "0\n",
      "Survived\n",
      "0\n",
      "Pclass\n",
      "0\n",
      "Name\n",
      "0\n",
      "Sex\n",
      "0\n",
      "Age\n",
      "177\n",
      "SibSp\n",
      "0\n",
      "Parch\n",
      "0\n",
      "Ticket\n",
      "0\n",
      "Fare\n",
      "0\n",
      "Cabin\n",
      "687\n",
      "Embarked\n",
      "2\n"
     ]
    }
   ],
   "source": [
    "# method 2 using select and when\n",
    "for column in col_list:\n",
    "    print(column)\n",
    "    null_count = titanic_data.select(count(when(col(column).isNull(),column)).alias(\"Null Count\")).collect()[0][\"Null Count\"]\n",
    "    print(null_count)\n",
    "    "
   ]
  },
  {
   "cell_type": "markdown",
   "id": "e86f5733-47b4-4ac7-9f5d-b5a5c600edc4",
   "metadata": {},
   "source": [
    "#### Knowledge Bytes 2\n",
    "- To create new column (in this case AgeSegments) we can use either withColumn or select approach\n",
    "- withColumn is used to rename of create new columns\n",
    "- select - we need to make sure all the columns are present in the df else it will only produce the new column"
   ]
  },
  {
   "cell_type": "code",
   "execution_count": 26,
   "id": "d68d3352-e8ae-48c7-bbaa-0e1c7d5610c9",
   "metadata": {},
   "outputs": [],
   "source": [
    "titanic_data1 = titanic_data.withColumn(\n",
    "    \"AgeSegments\",\n",
    "    when(col(\"Age\") < 18, \"0-17\")\n",
    "    .when((col(\"Age\") >= 18) & (col(\"Age\") < 35), \"18-34\")\n",
    "    .when((col(\"Age\") >= 35) & (col(\"Age\") < 50), \"35-49\")\n",
    "    .when((col(\"Age\") >= 50) & (col(\"Age\") < 60), \"50-59\")\n",
    "    .when((col(\"Age\") >= 60) & (col(\"Age\") < 70), \"60-69\")\n",
    "    .when(col(\"Age\") >= 70, \"70+\")\n",
    "    .otherwise(\"Unknown\")\n",
    ")\n"
   ]
  },
  {
   "cell_type": "code",
   "execution_count": 19,
   "id": "00d6fe12-8d5a-4707-a71c-9f93cb80b8d5",
   "metadata": {},
   "outputs": [],
   "source": [
    "# method 2\n",
    "titanic_data2 = titanic_data.select(\n",
    "    \"*\",  # keep all existing columns\n",
    "    when(col(\"Age\") < 18, \"0-17\")\n",
    "    .when((col(\"Age\") >= 18) & (col(\"Age\") < 35), \"18-34\")\n",
    "    .when((col(\"Age\") >= 35) & (col(\"Age\") < 50), \"35-49\")\n",
    "    .when((col(\"Age\") >= 50) & (col(\"Age\") < 60), \"50-59\")\n",
    "    .when((col(\"Age\") >= 60) & (col(\"Age\") < 70), \"60-69\")\n",
    "    .when(col(\"Age\") >= 70, \"70+\")\n",
    "    .otherwise(\"Unknown\")\n",
    "    .alias(\"AgeSegments_selectMethod\")\n",
    ")"
   ]
  },
  {
   "cell_type": "code",
   "execution_count": 23,
   "id": "a14e7a83-c9fe-4269-9724-bbf81447093f",
   "metadata": {},
   "outputs": [
    {
     "name": "stdout",
     "output_type": "stream",
     "text": [
      "+-----------+--------+------+--------------------+------+----+-----+-----+----------------+-------+-----+--------+------------------------+\n",
      "|PassengerId|Survived|Pclass|                Name|   Sex| Age|SibSp|Parch|          Ticket|   Fare|Cabin|Embarked|AgeSegments_selectMethod|\n",
      "+-----------+--------+------+--------------------+------+----+-----+-----+----------------+-------+-----+--------+------------------------+\n",
      "|          1|       0|     3|Braund, Mr. Owen ...|  male|22.0|    1|    0|       A/5 21171|   7.25| NULL|       S|                   18-34|\n",
      "|          2|       1|     1|Cumings, Mrs. Joh...|female|38.0|    1|    0|        PC 17599|71.2833|  C85|       C|                   35-49|\n",
      "|          3|       1|     3|Heikkinen, Miss. ...|female|26.0|    0|    0|STON/O2. 3101282|  7.925| NULL|       S|                   18-34|\n",
      "|          4|       1|     1|Futrelle, Mrs. Ja...|female|35.0|    1|    0|          113803|   53.1| C123|       S|                   35-49|\n",
      "|          5|       0|     3|Allen, Mr. Willia...|  male|35.0|    0|    0|          373450|   8.05| NULL|       S|                   35-49|\n",
      "|          6|       0|     3|    Moran, Mr. James|  male|NULL|    0|    0|          330877| 8.4583| NULL|       Q|                 Unknown|\n",
      "|          7|       0|     1|McCarthy, Mr. Tim...|  male|54.0|    0|    0|           17463|51.8625|  E46|       S|                   50-59|\n",
      "|          8|       0|     3|Palsson, Master. ...|  male| 2.0|    3|    1|          349909| 21.075| NULL|       S|                    0-17|\n",
      "|          9|       1|     3|Johnson, Mrs. Osc...|female|27.0|    0|    2|          347742|11.1333| NULL|       S|                   18-34|\n",
      "|         10|       1|     2|Nasser, Mrs. Nich...|female|14.0|    1|    0|          237736|30.0708| NULL|       C|                    0-17|\n",
      "|         11|       1|     3|Sandstrom, Miss. ...|female| 4.0|    1|    1|         PP 9549|   16.7|   G6|       S|                    0-17|\n",
      "|         12|       1|     1|Bonnell, Miss. El...|female|58.0|    0|    0|          113783|  26.55| C103|       S|                   50-59|\n",
      "|         13|       0|     3|Saundercock, Mr. ...|  male|20.0|    0|    0|       A/5. 2151|   8.05| NULL|       S|                   18-34|\n",
      "|         14|       0|     3|Andersson, Mr. An...|  male|39.0|    1|    5|          347082| 31.275| NULL|       S|                   35-49|\n",
      "|         15|       0|     3|Vestrom, Miss. Hu...|female|14.0|    0|    0|          350406| 7.8542| NULL|       S|                    0-17|\n",
      "|         16|       1|     2|Hewlett, Mrs. (Ma...|female|55.0|    0|    0|          248706|   16.0| NULL|       S|                   50-59|\n",
      "|         17|       0|     3|Rice, Master. Eugene|  male| 2.0|    4|    1|          382652| 29.125| NULL|       Q|                    0-17|\n",
      "|         18|       1|     2|Williams, Mr. Cha...|  male|NULL|    0|    0|          244373|   13.0| NULL|       S|                 Unknown|\n",
      "|         19|       0|     3|Vander Planke, Mr...|female|31.0|    1|    0|          345763|   18.0| NULL|       S|                   18-34|\n",
      "|         20|       1|     3|Masselmani, Mrs. ...|female|NULL|    0|    0|            2649|  7.225| NULL|       C|                 Unknown|\n",
      "+-----------+--------+------+--------------------+------+----+-----+-----+----------------+-------+-----+--------+------------------------+\n",
      "only showing top 20 rows\n",
      "\n"
     ]
    }
   ],
   "source": [
    "titanic_data2.show()"
   ]
  },
  {
   "cell_type": "code",
   "execution_count": null,
   "id": "0d359820-9789-4565-9488-946aa3c6938b",
   "metadata": {},
   "outputs": [],
   "source": []
  },
  {
   "cell_type": "code",
   "execution_count": null,
   "id": "2fbf3ac8-f845-4537-8bfa-70d0652f6af6",
   "metadata": {},
   "outputs": [],
   "source": []
  }
 ],
 "metadata": {
  "kernelspec": {
   "display_name": "Python 3 (ipykernel)",
   "language": "python",
   "name": "python3"
  },
  "language_info": {
   "codemirror_mode": {
    "name": "ipython",
    "version": 3
   },
   "file_extension": ".py",
   "mimetype": "text/x-python",
   "name": "python",
   "nbconvert_exporter": "python",
   "pygments_lexer": "ipython3",
   "version": "3.10.0"
  }
 },
 "nbformat": 4,
 "nbformat_minor": 5
}
